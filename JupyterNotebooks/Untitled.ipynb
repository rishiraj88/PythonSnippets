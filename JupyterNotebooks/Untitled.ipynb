{
 "cells": [
  {
   "cell_type": "code",
   "execution_count": 4,
   "id": "e01b33a3-519e-48fe-9f0d-4563a1ecd0ac",
   "metadata": {},
   "outputs": [
    {
     "name": "stdout",
     "output_type": "stream",
     "text": [
      "Requirement already satisfied: tweepy in c:\\users\\rishi\\downloads\\installed\\python311\\lib\\site-packages (4.14.0)\n",
      "Requirement already satisfied: oauthlib<4,>=3.2.0 in c:\\users\\rishi\\downloads\\installed\\python311\\lib\\site-packages (from tweepy) (3.2.2)\n",
      "Requirement already satisfied: requests<3,>=2.27.0 in c:\\users\\rishi\\downloads\\installed\\python311\\lib\\site-packages (from tweepy) (2.31.0)\n",
      "Requirement already satisfied: requests-oauthlib<2,>=1.2.0 in c:\\users\\rishi\\downloads\\installed\\python311\\lib\\site-packages (from tweepy) (1.3.1)\n",
      "Requirement already satisfied: charset-normalizer<4,>=2 in c:\\users\\rishi\\downloads\\installed\\python311\\lib\\site-packages (from requests<3,>=2.27.0->tweepy) (3.3.2)\n",
      "Requirement already satisfied: idna<4,>=2.5 in c:\\users\\rishi\\downloads\\installed\\python311\\lib\\site-packages (from requests<3,>=2.27.0->tweepy) (3.6)\n",
      "Requirement already satisfied: urllib3<3,>=1.21.1 in c:\\users\\rishi\\downloads\\installed\\python311\\lib\\site-packages (from requests<3,>=2.27.0->tweepy) (2.2.1)\n",
      "Requirement already satisfied: certifi>=2017.4.17 in c:\\users\\rishi\\downloads\\installed\\python311\\lib\\site-packages (from requests<3,>=2.27.0->tweepy) (2024.2.2)\n",
      "Note: you may need to restart the kernel to use updated packages.\n"
     ]
    },
    {
     "name": "stderr",
     "output_type": "stream",
     "text": [
      "DEPRECATION: Loading egg at c:\\users\\rishi\\downloads\\installed\\python311\\lib\\site-packages\\vboxapi-1.0-py3.11.egg is deprecated. pip 24.3 will enforce this behaviour change. A possible replacement is to use pip for package installation.. Discussion can be found at https://github.com/pypa/pip/issues/12330\n"
     ]
    }
   ],
   "source": [
    "pip install tweepy"
   ]
  },
  {
   "cell_type": "code",
   "execution_count": 1,
   "id": "7e84f27f-b52f-44b8-b541-ac3b39cb575f",
   "metadata": {},
   "outputs": [
    {
     "ename": "ImportError",
     "evalue": "cannot import name 'StreamListener' from 'tweepy.streaming' (C:\\Users\\rishi\\Downloads\\installed\\Python311\\Lib\\site-packages\\tweepy\\streaming.py)",
     "output_type": "error",
     "traceback": [
      "\u001b[1;31m---------------------------------------------------------------------------\u001b[0m",
      "\u001b[1;31mImportError\u001b[0m                               Traceback (most recent call last)",
      "Cell \u001b[1;32mIn[1], line 2\u001b[0m\n\u001b[0;32m      1\u001b[0m \u001b[38;5;28;01mimport\u001b[39;00m \u001b[38;5;21;01mtweepy\u001b[39;00m\n\u001b[1;32m----> 2\u001b[0m \u001b[38;5;28;01mfrom\u001b[39;00m \u001b[38;5;21;01mtweepy\u001b[39;00m\u001b[38;5;21;01m.\u001b[39;00m\u001b[38;5;21;01mstreaming\u001b[39;00m \u001b[38;5;28;01mimport\u001b[39;00m StreamListener\n\u001b[0;32m      3\u001b[0m \u001b[38;5;28;01mfrom\u001b[39;00m \u001b[38;5;21;01mtweepy\u001b[39;00m \u001b[38;5;28;01mimport\u001b[39;00m OAuthHandler\n\u001b[0;32m      4\u001b[0m \u001b[38;5;28;01mfrom\u001b[39;00m \u001b[38;5;21;01mtweepy\u001b[39;00m \u001b[38;5;28;01mimport\u001b[39;00m Stream\n",
      "\u001b[1;31mImportError\u001b[0m: cannot import name 'StreamListener' from 'tweepy.streaming' (C:\\Users\\rishi\\Downloads\\installed\\Python311\\Lib\\site-packages\\tweepy\\streaming.py)"
     ]
    }
   ],
   "source": [
    "import tweepy\n",
    "from tweepy.streaming import StreamListener\n",
    "from tweepy import OAuthHandler\n",
    "from tweepy import Stream\n",
    "from kafka import SimpleProducer, KafkaClient\n",
    "import time\n",
    "\n",
    "access_token = \"748200460067045376-zYxRRyxiPIywcw2IV50IQiIxzQVN5FZ\"\n",
    "access_token_secret =  \"c6dRkeRbgPqtbWAOTz0OfOMpBvhZS6KqWFjtEqHBEv7me\"\n",
    "consumer_key =  \"ukUrCrJdd6MQQd0HQBzCDwcLq\"\n",
    "consumer_secret =  \"VCf2wU1MhedUFnQeCwffzstdVkF7rbURzoNNDAdPPvbWfDtggP\"\n",
    "kafka_endpoint = \"ip-20-0-32-4.ap-south-1.compute.internal:9092\"\n",
    "kafka_topic = \"rk_hadoop\"\n",
    "twitter_hash_tag = \"RamNavami\"\n",
    "time_limit = 10\n",
    "\n",
    "class StdOutListener(StreamListener):\n",
    "\tdef __init__(self, time_limit=time_limit):\n",
    "\t\tself.start_time = time.time()\n",
    "\t\tself.limit = time_limit\n",
    "\t\tsuper(StdOutListener, self).__init__()\n",
    "\tdef on_data(self, data):\n",
    "\t\tif (time.time() - self.start_time) < self.limit:\n",
    "            #msg = json.loads(data)\n",
    "\t\t\tproducer.send_messages(kafka_topic, data.encode('utf-8'))\n",
    "\t\t\tprint (data)\n",
    "\t\t\treturn True\n",
    "\t\texit(0)\n",
    "\tdef on_error(self, status):\n",
    "\t\tprint (status)\n",
    "\n",
    "kafka = KafkaClient(kafka_endpoint)\n",
    "producer = SimpleProducer(kafka)\n",
    "l = StdOutListener()\n",
    "auth = OAuthHandler(consumer_key, consumer_secret)\n",
    "auth.set_access_token(access_token, access_token_secret)\n",
    "stream = Stream(auth, l)\n",
    "stream.filter(track=twitter_hash_tag)"
   ]
  },
  {
   "cell_type": "code",
   "execution_count": null,
   "id": "92d11f6c-365d-4b21-9a23-f5e19dc2ac88",
   "metadata": {},
   "outputs": [],
   "source": []
  }
 ],
 "metadata": {
  "kernelspec": {
   "display_name": "Python 3 (ipykernel)",
   "language": "python",
   "name": "python3"
  },
  "language_info": {
   "codemirror_mode": {
    "name": "ipython",
    "version": 3
   },
   "file_extension": ".py",
   "mimetype": "text/x-python",
   "name": "python",
   "nbconvert_exporter": "python",
   "pygments_lexer": "ipython3",
   "version": "3.11.4"
  }
 },
 "nbformat": 4,
 "nbformat_minor": 5
}
