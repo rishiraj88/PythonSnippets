{
 "cells": [
  {
   "cell_type": "code",
   "execution_count": 15,
   "id": "c4fe0332-4959-4dbf-a7ad-417996543ffd",
   "metadata": {},
   "outputs": [
    {
     "name": "stdout",
     "output_type": "stream",
     "text": [
      "8.0\n"
     ]
    }
   ],
   "source": [
    "#n = float(input('Enter a number to get its cube root:'))\n",
    "n = 512\n",
    "x = n\n",
    "y = (2*x + n/ x**x)/3\n",
    "while abs(x-y) >= 0.0000001:\n",
    "    x=y\n",
    "    y=(2*x + n/ x**2)/3\n",
    "cubeRoot = y\n",
    "print(cubeRoot)"
   ]
  },
  {
   "cell_type": "code",
   "execution_count": null,
   "id": "9150015f-a34c-440b-9dae-0c4aba9a41e0",
   "metadata": {},
   "outputs": [],
   "source": []
  }
 ],
 "metadata": {
  "kernelspec": {
   "display_name": "Python 3 (ipykernel)",
   "language": "python",
   "name": "python3"
  },
  "language_info": {
   "codemirror_mode": {
    "name": "ipython",
    "version": 3
   },
   "file_extension": ".py",
   "mimetype": "text/x-python",
   "name": "python",
   "nbconvert_exporter": "python",
   "pygments_lexer": "ipython3",
   "version": "3.11.4"
  }
 },
 "nbformat": 4,
 "nbformat_minor": 5
}
