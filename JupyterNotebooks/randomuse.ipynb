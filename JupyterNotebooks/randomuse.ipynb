{
 "cells": [
  {
   "cell_type": "code",
   "execution_count": 22,
   "id": "25ae4189-46b7-4c4c-9892-f05f95616023",
   "metadata": {},
   "outputs": [
    {
     "name": "stdout",
     "output_type": "stream",
     "text": [
      "Medical Assistant is a very good option with monetory motive.\n"
     ]
    }
   ],
   "source": [
    "import random\n",
    "careerOptions = ['Dentist','Registered Nurse','Pharmacist','Computer Systems Analyst','Physician','Database Administrator','Software Developer','Physical Therapist','Web Developer','Dental Hygienist','Occupational Therapist','Veterinarian','Computer Programmer','School Psychologist','Physical Therapist Assistant','Interpreter & Translator','Mechanical Engineer','Veterinary Technologist & Technician','Epidemiologist','IT Manager','Market Research Analyst','Diagnostic Medical Sonographer','Computer Systems Administrator','Respiratory Therapist','Medical Secretary','Civil Engineer','Substance Abuse Counselor','Speech-Language Pathologist','Landscaper & Groundskeeper','Radiologic Technologist','Cost Estimator','Financial Advisor','Marriage & Family Therapist','Medical Assistant','Lawyer']\n",
    "selection = random.choice(careerOptions)\n",
    "print(selection,'is a very good option with monetory motive.')"
   ]
  },
  {
   "cell_type": "code",
   "execution_count": 23,
   "id": "b238ee05-d2ab-40ad-a493-3e7dae6fe63d",
   "metadata": {},
   "outputs": [
    {
     "name": "stdout",
     "output_type": "stream",
     "text": [
      "Let's increase the degree of randomness for a game!\n",
      "['Landscaper & Groundskeeper', 'Cost Estimator', 'Diagnostic Medical Sonographer', 'Market Research Analyst', 'Database Administrator', 'Veterinary Technologist & Technician', 'Pharmacist', 'Registered Nurse', 'Speech-Language Pathologist', 'Computer Systems Administrator', 'Mechanical Engineer', 'Medical Secretary', 'Interpreter & Translator', 'Lawyer', 'Computer Programmer', 'Epidemiologist', 'IT Manager', 'Physician', 'Respiratory Therapist', 'Web Developer', 'Physical Therapist', 'Marriage & Family Therapist', 'Computer Systems Analyst', 'Software Developer', 'Physical Therapist Assistant', 'School Psychologist', 'Radiologic Technologist', 'Dentist', 'Veterinarian', 'Financial Advisor', 'Civil Engineer', 'Dental Hygienist', 'Substance Abuse Counselor', 'Medical Assistant', 'Occupational Therapist']\n"
     ]
    }
   ],
   "source": [
    "print('Let\\'s increase the degree of randomness for a game!')\n",
    "random.shuffle(careerOptions)\n",
    "print(careerOptions)"
   ]
  },
  {
   "cell_type": "code",
   "execution_count": 24,
   "id": "aa043f4f-3a86-451d-8377-d57cf92289fb",
   "metadata": {},
   "outputs": [
    {
     "name": "stdout",
     "output_type": "stream",
     "text": [
      "Veterinarian is another very good option.\n"
     ]
    }
   ],
   "source": [
    "selection = random.choice(careerOptions)\n",
    "print(selection,'is another very good option.')"
   ]
  },
  {
   "cell_type": "code",
   "execution_count": null,
   "id": "1d97912b-1ea5-4704-a2a4-5de16532b170",
   "metadata": {},
   "outputs": [],
   "source": []
  }
 ],
 "metadata": {
  "kernelspec": {
   "display_name": "Python 3 (ipykernel)",
   "language": "python",
   "name": "python3"
  },
  "language_info": {
   "codemirror_mode": {
    "name": "ipython",
    "version": 3
   },
   "file_extension": ".py",
   "mimetype": "text/x-python",
   "name": "python",
   "nbconvert_exporter": "python",
   "pygments_lexer": "ipython3",
   "version": "3.11.4"
  }
 },
 "nbformat": 4,
 "nbformat_minor": 5
}
