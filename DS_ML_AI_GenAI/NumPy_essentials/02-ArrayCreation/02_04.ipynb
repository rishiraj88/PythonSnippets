{
 "cells": [
  {
   "cell_type": "markdown",
   "id": "73448492",
   "metadata": {},
   "source": [
    "### Intrisic NumPy array creation"
   ]
  },
  {
   "cell_type": "code",
   "execution_count": 1,
   "id": "cd7fc1b4",
   "metadata": {},
   "outputs": [],
   "source": [
    "import numpy as np"
   ]
  },
  {
   "cell_type": "code",
   "execution_count": 2,
   "id": "db34fff3",
   "metadata": {},
   "outputs": [
    {
     "data": {
      "text/plain": [
       "array([0, 1, 2, 3, 4, 5, 6, 7, 8, 9])"
      ]
     },
     "execution_count": 2,
     "metadata": {},
     "output_type": "execute_result"
    }
   ],
   "source": [
    "integers_array=np.arange(10)\n",
    "integers_array"
   ]
  },
  {
   "cell_type": "code",
   "execution_count": 3,
   "id": "0ba8325c",
   "metadata": {},
   "outputs": [
    {
     "data": {
      "text/plain": [
       "array([100, 101, 102, 103, 104, 105, 106, 107, 108, 109, 110, 111, 112,\n",
       "       113, 114, 115, 116, 117, 118, 119, 120, 121, 122, 123, 124, 125,\n",
       "       126, 127, 128, 129])"
      ]
     },
     "execution_count": 3,
     "metadata": {},
     "output_type": "execute_result"
    }
   ],
   "source": [
    "integers_second_array=np.arange(100,130)\n",
    "integers_second_array"
   ]
  },
  {
   "cell_type": "code",
   "execution_count": 4,
   "id": "8057c0cd",
   "metadata": {},
   "outputs": [
    {
     "data": {
      "text/plain": [
       "array([100, 102, 104, 106, 108, 110, 112, 114, 116, 118, 120, 122, 124,\n",
       "       126, 128, 130, 132, 134, 136, 138, 140, 142, 144, 146, 148, 150])"
      ]
     },
     "execution_count": 4,
     "metadata": {},
     "output_type": "execute_result"
    }
   ],
   "source": [
    "integers_third_array=np.arange(100,151,2)\n",
    "integers_third_array"
   ]
  },
  {
   "cell_type": "code",
   "execution_count": 5,
   "id": "bdbd9a95",
   "metadata": {},
   "outputs": [
    {
     "data": {
      "text/plain": [
       "array([10.        , 10.20408163, 10.40816327, 10.6122449 , 10.81632653,\n",
       "       11.02040816, 11.2244898 , 11.42857143, 11.63265306, 11.83673469,\n",
       "       12.04081633, 12.24489796, 12.44897959, 12.65306122, 12.85714286,\n",
       "       13.06122449, 13.26530612, 13.46938776, 13.67346939, 13.87755102,\n",
       "       14.08163265, 14.28571429, 14.48979592, 14.69387755, 14.89795918,\n",
       "       15.10204082, 15.30612245, 15.51020408, 15.71428571, 15.91836735,\n",
       "       16.12244898, 16.32653061, 16.53061224, 16.73469388, 16.93877551,\n",
       "       17.14285714, 17.34693878, 17.55102041, 17.75510204, 17.95918367,\n",
       "       18.16326531, 18.36734694, 18.57142857, 18.7755102 , 18.97959184,\n",
       "       19.18367347, 19.3877551 , 19.59183673, 19.79591837, 20.        ])"
      ]
     },
     "execution_count": 5,
     "metadata": {},
     "output_type": "execute_result"
    }
   ],
   "source": [
    "first_floats_arr=np.linspace(10,20)\n",
    "first_floats_arr"
   ]
  },
  {
   "cell_type": "code",
   "execution_count": 6,
   "id": "f534deb7",
   "metadata": {},
   "outputs": [
    {
     "data": {
      "text/plain": [
       "array([10. , 12.5, 15. , 17.5, 20. ])"
      ]
     },
     "execution_count": 6,
     "metadata": {},
     "output_type": "execute_result"
    }
   ],
   "source": [
    "second_floats_arr=np.linspace(10,20,5)\n",
    "second_floats_arr"
   ]
  },
  {
   "cell_type": "code",
   "execution_count": 7,
   "id": "9063782b",
   "metadata": {},
   "outputs": [
    {
     "data": {
      "text/plain": [
       "array([0.71260704, 0.39256516, 0.46726988, 0.58597865, 0.76926131,\n",
       "       0.47810476, 0.83048169, 0.95593212, 0.41926085, 0.85799609])"
      ]
     },
     "execution_count": 7,
     "metadata": {},
     "output_type": "execute_result"
    }
   ],
   "source": [
    "first_rand_arr=np.random.rand(10)\n",
    "first_rand_arr"
   ]
  },
  {
   "cell_type": "code",
   "execution_count": 8,
   "id": "5d342f0a",
   "metadata": {},
   "outputs": [
    {
     "data": {
      "text/plain": [
       "array([[0.46697392, 0.71251143, 0.64890587, 0.43792779],\n",
       "       [0.79516025, 0.1888439 , 0.04296639, 0.210475  ],\n",
       "       [0.27597024, 0.96000445, 0.32202358, 0.18595349],\n",
       "       [0.33870221, 0.89603373, 0.07431204, 0.79535699]])"
      ]
     },
     "execution_count": 8,
     "metadata": {},
     "output_type": "execute_result"
    }
   ],
   "source": [
    "second_rand_arr=np.random.rand(4,4)\n",
    "second_rand_arr"
   ]
  },
  {
   "cell_type": "code",
   "execution_count": 9,
   "id": "8877c697",
   "metadata": {},
   "outputs": [
    {
     "data": {
      "text/plain": [
       "array([93, 97, 30,  5, 49, 44, 83, 14, 61, 54, 68, 96, 60, 26, 63, 44, 18,\n",
       "       61, 93,  2])"
      ]
     },
     "execution_count": 9,
     "metadata": {},
     "output_type": "execute_result"
    }
   ],
   "source": [
    "third_rand_arr=np.random.randint(0,100,20)\n",
    "third_rand_arr"
   ]
  },
  {
   "cell_type": "code",
   "execution_count": null,
   "id": "0b96c4b7",
   "metadata": {},
   "outputs": [],
   "source": []
  }
 ],
 "metadata": {
  "kernelspec": {
   "display_name": "Python 3",
   "language": "python",
   "name": "python3"
  },
  "language_info": {
   "codemirror_mode": {
    "name": "ipython",
    "version": 3
   },
   "file_extension": ".py",
   "mimetype": "text/x-python",
   "name": "python",
   "nbconvert_exporter": "python",
   "pygments_lexer": "ipython3",
   "version": "3.8.8"
  }
 },
 "nbformat": 4,
 "nbformat_minor": 5
}
